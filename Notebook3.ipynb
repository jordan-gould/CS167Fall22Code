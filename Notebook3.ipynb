{
  "nbformat": 4,
  "nbformat_minor": 0,
  "metadata": {
    "colab": {
      "provenance": [],
      "include_colab_link": true
    },
    "kernelspec": {
      "name": "python3",
      "display_name": "Python 3"
    },
    "language_info": {
      "name": "python"
    }
  },
  "cells": [
    {
      "cell_type": "markdown",
      "metadata": {
        "id": "view-in-github",
        "colab_type": "text"
      },
      "source": [
        "<a href=\"https://colab.research.google.com/github/jordan-gould/CS167Fall22Code/blob/main/Notebook3.ipynb\" target=\"_parent\"><img src=\"https://colab.research.google.com/assets/colab-badge.svg\" alt=\"Open In Colab\"/></a>"
      ]
    },
    {
      "cell_type": "markdown",
      "source": [
        "# Notebook #3: Cross Validation with kNN and Wine Ratings\n",
        "**Name: Jordan Gould**\n"
      ],
      "metadata": {
        "id": "6p6Gf9wQNv_f"
      }
    },
    {
      "cell_type": "markdown",
      "source": [
        "Prepare the data"
      ],
      "metadata": {
        "id": "diNiU6_kN5se"
      }
    },
    {
      "cell_type": "code",
      "source": [
        "import pandas\n",
        "import numpy\n",
        "import sklearn.metrics\n",
        "from google.colab import drive \n",
        "drive.mount('/content/drive')"
      ],
      "metadata": {
        "id": "kf1k35nmN15u",
        "colab": {
          "base_uri": "https://localhost:8080/"
        },
        "outputId": "76fae838-b05b-40f6-cc5b-5aa3d2494d39"
      },
      "execution_count": 21,
      "outputs": [
        {
          "output_type": "stream",
          "name": "stdout",
          "text": [
            "Drive already mounted at /content/drive; to attempt to forcibly remount, call drive.mount(\"/content/drive\", force_remount=True).\n"
          ]
        }
      ]
    },
    {
      "cell_type": "code",
      "source": [
        "# change the path so to access the data on your drive \n",
        "wine_data = pandas.read_csv('/content/drive/MyDrive/CS167Datasets/winequality-white.csv')"
      ],
      "metadata": {
        "id": "NU2OlQdUN7hg"
      },
      "execution_count": 2,
      "outputs": []
    },
    {
      "cell_type": "markdown",
      "source": [
        "# Exercise #1. \n",
        "Implement mean squared error (mse) algorithm"
      ],
      "metadata": {
        "id": "y0y8sj-TOwlA"
      }
    },
    {
      "cell_type": "code",
      "source": [
        "def mse(actual,predicted):\n",
        "    # INPUT: \n",
        "    #   actual: a list of values\n",
        "    #   predicted: a list of value\n",
        "    #   (we assume that number of elements in actual and predicted match)\n",
        "    # OUTPUT: \n",
        "    #   the mean squared error between the actual and predicted values\n",
        "\n",
        "    total = 0\n",
        "    length = len(actual)\n",
        "\n",
        "    for i in range(0, length):\n",
        "      total += (actual.iloc[i] - predicted.iloc[i])**2\n",
        "\n",
        "    mean_squared_error = total / length\n",
        "    return mean_squared_error\n"
      ],
      "metadata": {
        "id": "lKq5w184O8Zc"
      },
      "execution_count": 45,
      "outputs": []
    },
    {
      "cell_type": "markdown",
      "source": [
        "# Exercise #2\n",
        "Implement the testing and training data. Use the approximately the first 320 rows in the shuffled set as testing data. "
      ],
      "metadata": {
        "id": "mvJxkj41PkIf"
      }
    },
    {
      "cell_type": "code",
      "source": [
        "# change the path so to access the data on your drive \n",
        "wine_data = pandas.read_csv('/content/drive/MyDrive/CS167Datasets/winequality-white.csv')\n",
        "\n",
        "shuffled_data = wine_data.sample(frac = 1, random_state = 19)\n",
        "\n",
        "# establish test_data and train_data here\n",
        "test_data = shuffled_data.iloc[0:320]\n",
        "train_data = shuffled_data.iloc[320:]\n",
        "\n",
        "#test_data.head()"
      ],
      "metadata": {
        "id": "oyoxRCKmPtE4"
      },
      "execution_count": 23,
      "outputs": []
    },
    {
      "cell_type": "markdown",
      "source": [
        "# Exercise #3\n",
        "Use the kNN implementation and the other code provided below to normalize your data. Test your model using several different values of k and **graphically show** the results using your implementation of **mse**."
      ],
      "metadata": {
        "id": "tiwDvnNgP_0C"
      }
    },
    {
      "cell_type": "code",
      "source": [
        "import numpy\n",
        "\n",
        "def regression_kNN(specimen, data, k):\n",
        "  data_copy = data.copy()\n",
        "  data_copy['distance_to_new'] = numpy.sqrt(\n",
        "    (specimen['fixed acidity']-data['fixed acidity'])**2\n",
        "    +(specimen['volatile acidity']-data['volatile acidity'])**2\n",
        "    +(specimen['citric acid']-data['citric acid'])**2\n",
        "    +(specimen['residual sugar']-data['residual sugar'])**2\n",
        "    +(specimen['chlorides']-data['chlorides'])**2\n",
        "    +(specimen['free sulfur dioxide']-data['free sulfur dioxide'])**2\n",
        "    +(specimen['total sulfur dioxide']-data['total sulfur dioxide'])**2\n",
        "    +(specimen['density']-data['density'])**2\n",
        "    +(specimen['pH']-data['pH'])**2\n",
        "    +(specimen['sulphates']-data['sulphates'])**2\n",
        "    +(specimen['alcohol']-data['alcohol'])**2\n",
        "    )\n",
        "  sorted_data = data_copy.sort_values(['distance_to_new']) \n",
        "  return sorted_data.iloc[0:k]['quality'].mean()"
      ],
      "metadata": {
        "id": "WLhN_9bWQFu3"
      },
      "execution_count": 5,
      "outputs": []
    },
    {
      "cell_type": "code",
      "source": [
        "def regressions_all_kNN(test_data,train_data,k):\n",
        "    #apply the regression_kNN function to each item in the test data with the train\n",
        "    #data and k passed as the other two arguments. The result will be a series of \n",
        "    #the individual results.\n",
        "    results = []\n",
        "    for i in range(len(test_data)):\n",
        "      prediction = regression_kNN(test_data.iloc[i], train_data,k)\n",
        "      results.append(prediction)\n",
        "    return pandas.Series(results)"
      ],
      "metadata": {
        "id": "1KClR8Z2QsyC"
      },
      "execution_count": 6,
      "outputs": []
    },
    {
      "cell_type": "code",
      "source": [
        "# normalize the data (part 1) -- calculate the mean and standard deviation values for the predictor columns\n",
        "fixed_acidity_mean = train_data['fixed acidity'].mean()\n",
        "fixed_acidity_std = train_data['fixed acidity'].std()\n",
        "volatile_acidity_mean = train_data['volatile acidity'].mean()\n",
        "volatile_acidity_std = train_data['volatile acidity'].std()\n",
        "citric_acid_mean = train_data['citric acid'].mean()\n",
        "citric_acid_std = train_data['citric acid'].std()\n",
        "residual_sugar_mean = train_data['residual sugar'].mean()\n",
        "residual_sugar_std = train_data['residual sugar'].std()\n",
        "chlorides_mean = train_data['chlorides'].mean()\n",
        "chlorides_std = train_data['chlorides'].std()\n",
        "free_sulfur_dioxide_mean = train_data['free sulfur dioxide'].mean()\n",
        "free_sulfur_dioxide_std = train_data['free sulfur dioxide'].std()\n",
        "total_sulfur_dioxide_mean = train_data['total sulfur dioxide'].mean()\n",
        "total_sulfur_dioxide_std = train_data['total sulfur dioxide'].std()\n",
        "density_mean = train_data['density'].mean()\n",
        "density_std = train_data['density'].std()\n",
        "pH_mean = train_data['pH'].mean()\n",
        "pH_std = train_data['pH'].std()\n",
        "sulphates_mean = train_data['sulphates'].mean()\n",
        "sulphates_std = train_data['sulphates'].std()\n",
        "alcohol_mean = train_data['alcohol'].mean()\n",
        "alcohol_std = train_data['alcohol'].std()\n"
      ],
      "metadata": {
        "id": "ZbpecOIJQxMv"
      },
      "execution_count": 7,
      "outputs": []
    },
    {
      "cell_type": "code",
      "source": [
        " # normalize the data (part 1) -- normalize both the training and testing data frames\n",
        "train_norm_data = train_data.copy()\n",
        "test_norm_data = test_data.copy()\n",
        "\n",
        "# update the columns in train_norm_data \n",
        "train_norm_data['fixed acidity'] = (train_data['fixed acidity'] - fixed_acidity_mean)/fixed_acidity_std\n",
        "train_norm_data['volatile acidity'] = (train_data['volatile acidity'] - volatile_acidity_mean)/volatile_acidity_std\n",
        "train_norm_data['citric acid'] = (train_data['citric acid'] - citric_acid_mean)/citric_acid_std\n",
        "train_norm_data['residual sugar'] = (train_data['residual sugar'] - residual_sugar_mean)/residual_sugar_std\n",
        "train_norm_data['chlorides'] = (train_data['chlorides'] - chlorides_mean)/chlorides_std\n",
        "train_norm_data['free sulfur dioxide'] = (train_data['free sulfur dioxide'] - free_sulfur_dioxide_mean)/free_sulfur_dioxide_std\n",
        "train_norm_data['total sulfur dioxide'] = (train_data['total sulfur dioxide'] - total_sulfur_dioxide_mean)/total_sulfur_dioxide_std\n",
        "train_norm_data['density'] = (train_data['density'] - density_mean)/density_std\n",
        "train_norm_data['pH'] = (train_data['pH'] - pH_mean)/pH_std\n",
        "train_norm_data['sulphates'] = (train_data['sulphates'] - sulphates_mean)/sulphates_std\n",
        "train_norm_data['alcohol'] = (train_data['alcohol'] - alcohol_mean)/alcohol_std\n",
        "\n",
        "# update the columns in test_norm_data \n",
        "test_norm_data['fixed acidity'] = (test_data['fixed acidity'] - fixed_acidity_mean)/fixed_acidity_std\n",
        "test_norm_data['volatile acidity'] = (test_data['volatile acidity'] - volatile_acidity_mean)/volatile_acidity_std\n",
        "test_norm_data['citric acid'] = (test_data['citric acid'] - citric_acid_mean)/citric_acid_std\n",
        "test_norm_data['residual sugar'] = (test_data['residual sugar'] - residual_sugar_mean)/residual_sugar_std\n",
        "test_norm_data['chlorides'] = (test_data['chlorides'] - chlorides_mean)/chlorides_std\n",
        "test_norm_data['free sulfur dioxide'] = (test_data['free sulfur dioxide'] - free_sulfur_dioxide_mean)/free_sulfur_dioxide_std\n",
        "test_norm_data['total sulfur dioxide'] = (test_data['total sulfur dioxide'] - total_sulfur_dioxide_mean)/total_sulfur_dioxide_std\n",
        "test_norm_data['density'] = (test_data['density'] - density_mean)/density_std\n",
        "test_norm_data['pH'] = (test_data['pH'] - pH_mean)/pH_std\n",
        "test_norm_data['sulphates'] = (test_data['sulphates'] - sulphates_mean)/sulphates_std\n",
        "test_norm_data['alcohol'] = (test_data['alcohol'] - alcohol_mean)/alcohol_std"
      ],
      "metadata": {
        "id": "usRm6g4-Q_uS"
      },
      "execution_count": 8,
      "outputs": []
    },
    {
      "cell_type": "code",
      "source": [
        "import matplotlib.pyplot as plt\n",
        "%matplotlib inline\n",
        "\n",
        "#testing values\n",
        "k_vals = 25\n",
        "mse_vals = []\n",
        "\n",
        "for k in range(k_vals+1):\n",
        "  prediction = regressions_all_kNN(test_data,train_data,k)\n",
        "  mse_vals.append(mse(test_data['quality'],prediction))\n",
        "\n",
        "#plot the data\n",
        "plt.suptitle('Wine Quality Predictions', fontsize=18)\n",
        "plt.xlabel('k')\n",
        "plt.ylabel('MSE')\n",
        "plt.plot(range(k_vals+1),mse_vals,'ro-', label='kNN')\n",
        "plt.legend(loc='lower left', shadow=True)\n",
        "plt.axis([0,k_vals,.5,.8])\n",
        "\n",
        "plt.show()"
      ],
      "metadata": {
        "colab": {
          "base_uri": "https://localhost:8080/",
          "height": 308
        },
        "id": "mcxllALzDw8C",
        "outputId": "56555a61-b9cc-4537-f104-ade5474c7fb6"
      },
      "execution_count": 52,
      "outputs": [
        {
          "output_type": "display_data",
          "data": {
            "text/plain": [
              "<Figure size 432x288 with 1 Axes>"
            ],
            "image/png": "[encoded data removed]"
          },
          "metadata": {
            "needs_background": "light"
          }
        }
      ]
    },
    {
      "cell_type": "markdown",
      "source": [
        "# Exercise #4\n",
        "Repeat the experiment and **graphically show the results** using r^2."
      ],
      "metadata": {
        "id": "_Bgql4RdR8ta"
      }
    },
    {
      "cell_type": "code",
      "source": [
        "from sklearn.metrics import r2_score\n",
        "\n",
        "#testing values\n",
        "k_vals = 25\n",
        "knn_r2 = []\n",
        "\n",
        "for k in range(k_vals):\n",
        "  prediction = regressions_all_kNN(test_data,train_data,k+1)\n",
        "  r2_vals = r2_score(test_data['quality'],prediction)\n",
        "  knn_r2.append(r2_vals)\n",
        "\n",
        "#plotting the data\n",
        "plt.suptitle('Wine Quality Predictions', fontsize=18)\n",
        "plt.xlabel('k')\n",
        "plt.ylabel('R^2')\n",
        "plt.plot(range(k_vals),knn_r2,'ro-', label='kNN')\n",
        "plt.legend(loc='lower left', shadow=True)\n",
        "plt.axis([0,k_vals+1,0,.25])\n",
        "\n",
        "plt.show()"
      ],
      "metadata": {
        "colab": {
          "base_uri": "https://localhost:8080/",
          "height": 308
        },
        "id": "oEBai1ZMLmN1",
        "outputId": "3bf358f9-6db1-434f-c68b-10827872eae8"
      },
      "execution_count": 61,
      "outputs": [
        {
          "output_type": "display_data",
          "data": {
            "text/plain": [
              "<Figure size 432x288 with 1 Axes>"
            ],
            "image/png": "[encoded data removed]"
          },
          "metadata": {
            "needs_background": "light"
          }
        }
      ]
    },
    {
      "cell_type": "markdown",
      "source": [
        "# Exercise #5. \n",
        "Describe your findings. What conclusions can you draw about the best number for k for the k-NN algorithm for this data set? **Explain why.** Use a markdown cell to explain your conclusions."
      ],
      "metadata": {
        "id": "j0_mN_MpTscx"
      }
    },
    {
      "cell_type": "markdown",
      "source": [
        "Upon graphing the MSE and R^2 values for the normalized data set, I noticed that the data seemed to level out around k = 15. This would be a good K-value for the data set because the results are consistent and don't sway too much based on outliers, and it would be much shorter to compute than higher k-values, such as 25 which I used for graphing purposes."
      ],
      "metadata": {
        "id": "aKwzEKb-e_Vf"
      }
    }
  ]
}