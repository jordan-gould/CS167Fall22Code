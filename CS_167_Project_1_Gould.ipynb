{
  "nbformat": 4,
  "nbformat_minor": 0,
  "metadata": {
    "colab": {
      "provenance": [],
      "collapsed_sections": [],
      "include_colab_link": true
    },
    "kernelspec": {
      "name": "python3",
      "display_name": "Python 3"
    },
    "language_info": {
      "name": "python"
    }
  },
  "cells": [
    {
      "cell_type": "markdown",
      "metadata": {
        "id": "view-in-github",
        "colab_type": "text"
      },
      "source": [
        "<a href=\"https://colab.research.google.com/github/jordan-gould/CS167Fall22Code/blob/main/CS_167_Project_1_Gould.ipynb\" target=\"_parent\"><img src=\"https://colab.research.google.com/assets/colab-badge.svg\" alt=\"Open In Colab\"/></a>"
      ]
    },
    {
      "cell_type": "markdown",
      "source": [
        "# Project #1\n",
        "# Name: Jordan Gould"
      ],
      "metadata": {
        "id": "-BU7Gq41DZ3J"
      }
    },
    {
      "cell_type": "code",
      "execution_count": 1,
      "metadata": {
        "colab": {
          "base_uri": "https://localhost:8080/"
        },
        "id": "oEYhfh9WDIKb",
        "outputId": "a0b62eb9-70c5-446f-9f47-51279f7a98e4"
      },
      "outputs": [
        {
          "output_type": "stream",
          "name": "stdout",
          "text": [
            "Mounted at /content/drive\n"
          ]
        }
      ],
      "source": [
        "# mount drive\n",
        "from google.colab import drive\n",
        "drive.mount('/content/drive')"
      ]
    },
    {
      "cell_type": "markdown",
      "source": [
        "# Data Preparation\n",
        "Explain your data preparation. What did you have to do to get your data in shape for your experiments - creation of dummy variables, filling in missing values, etc."
      ],
      "metadata": {
        "id": "z11g8GFvIi1R"
      }
    },
    {
      "cell_type": "markdown",
      "source": [
        "For my data preparation, I first loaded in the data. Then I dropped the null values from the price column, since that is the variable I was trying to predict. Next, I removed the whole CarName column, since the values in it varied greatly and it would've been very difficult to use that to accurately predict the price. Next, I replaced the text variables doornumber and cylindernumber with their numerical equivalents. After that I replaced n/a values with the mean of their columns in every column that had numerical data. Next, I replaced the n/a values from the text-based columns with the word \"null\". The last step to cleaning the data was creating dummy variables for all of the text based columns.\n",
        "\n",
        "After all of that cleaning, the data was finally ready to be split and normalized."
      ],
      "metadata": {
        "id": "CseWsid61Ndq"
      }
    },
    {
      "cell_type": "code",
      "source": [
        "# import libraries\n",
        "import sklearn\n",
        "import pandas\n",
        "from sklearn import tree\n",
        "from sklearn.model_selection import train_test_split\n",
        "from sklearn import metrics\n",
        "from sklearn import neighbors\n",
        "from sklearn.preprocessing import StandardScaler\n",
        "import matplotlib.pyplot as plt\n",
        "%matplotlib inline\n",
        "\n",
        "# load data\n",
        "car_data = pandas.read_csv('/content/drive/MyDrive/CS167Datasets/CarPricesProject1.csv')\n",
        "\n",
        "# drop any null values from the price column, since its our target variable\n",
        "car_data.dropna(subset = ['price'], inplace = True)\n",
        "\n",
        "# I decided to completely drop the CarName column since there are so many possible classification variables\n",
        "car_data.drop(['CarName'], axis = 1, inplace = True)\n",
        "\n",
        "# replace the door number and cylinder number columns with their respective numerical values\n",
        "car_data['doornumber'].replace(['two','four'], [2,4], inplace = True)\n",
        "car_data['cylindernumber'].replace([\"two\", \"three\", \"four\", \"five\", \"six\", \"eight\", \"twelve\"], [2,3,4,5,6,8,12], inplace = True)\n",
        "\n",
        "# replace any n/a values of the numerical columns with the mean of that column\n",
        "for col in [\"symboling\", \"doornumber\", \"wheelbase\", \"carlength\", \"carwidth\", \"carheight\", \"curbweight\", \"cylindernumber\", \"enginesize\", \"boreratio\", \"stroke\", \"compressionratio\", \"horsepower\", \"peakrpm\", \"citympg\", \"highwaympg\"]:\n",
        "  car_data[col].fillna(car_data[col].mean(), inplace = True)\n",
        "\n",
        "# replace any n/a values in the text columns with the word \"null\"\n",
        "for col in [\"fueltype\", \"aspiration\", \"carbody\", \"drivewheel\", \"enginelocation\", \"enginetype\", \"fuelsystem\"]:\n",
        "  car_data[col].fillna(\"null\", inplace = True)\n",
        "\n",
        "#create dummy variables for any of the columns that are text-based values\n",
        "car_dummies = pandas.get_dummies(car_data, columns = [\"fueltype\", \"aspiration\", \"carbody\", \"drivewheel\", \"enginelocation\", \"enginetype\", \"fuelsystem\"])\n",
        "\n",
        "#car_dummies.head()"
      ],
      "metadata": {
        "id": "9btW5AupTl1U"
      },
      "execution_count": 2,
      "outputs": []
    },
    {
      "cell_type": "code",
      "source": [
        "# set the target and predictor columns and then split our data\n",
        "target = 'price'\n",
        "predictors = car_dummies.columns.drop(target)\n",
        "train_data, test_data, train_sln, test_sln = \\\n",
        "        train_test_split(car_dummies[predictors], car_dummies[target], test_size = 0.2, random_state = 17)\n",
        "        \n",
        "# normalize the data\n",
        "scaler = StandardScaler()\n",
        "scaler.fit(train_data)\n",
        "train_data_normalized = scaler.transform(train_data)\n",
        "test_data_normalized = scaler.transform(test_data)"
      ],
      "metadata": {
        "id": "C3uOa9FT5NNh"
      },
      "execution_count": 3,
      "outputs": []
    },
    {
      "cell_type": "markdown",
      "source": [
        "# Part 1: Regression\n",
        "How well can you predict target value `price`?"
      ],
      "metadata": {
        "id": "8AOn5pGfIqwM"
      }
    },
    {
      "cell_type": "markdown",
      "source": [
        "- **Metrics**: Identify which metrics you will be using to test your model, and say why they are appropriate. Identify a baseline for your metrics - what would you expect to happen with this particular data if you always guessed the average or if you guessed randomly?\n"
      ],
      "metadata": {
        "id": "lEASENsEfZDo"
      }
    },
    {
      "cell_type": "markdown",
      "source": [
        "The metrics I will be using to determine how well my model works are Mean Squared Error and R^2. These metrics are appropriate because the data is numerical, so we must see how close we get to the actual price. I'm not sure what the baseline for MSE would be for this model, since price is such a large number that I feel like the answer could vary greatly. I believe that R^2 may be a much better and easier metric to use. The baseline of R^2 would be 0, meaning the model is average at guessing the price. We want an R^2 value close to 1, which is perfectly guessing the price. A negative R^2 value would mean that it would actually be better for us to use the average value."
      ],
      "metadata": {
        "id": "ms3TgHxXWFW2"
      }
    },
    {
      "cell_type": "markdown",
      "source": [
        "- **Initial Models**: Develop basic code for kNN, weighted kNN, and Decision Trees. Make some experiments here, including graphs to help you identify which algorithm and parameters may be best.\n"
      ],
      "metadata": {
        "id": "KUgXptPgfbD5"
      }
    },
    {
      "cell_type": "code",
      "source": [
        "# Non-weighted kNN \n",
        "neigh = neighbors.KNeighborsRegressor() \n",
        "neigh.fit(train_data, train_sln)\n",
        "predictions = neigh.predict(test_data)\n",
        "\n",
        "MSE = metrics.mean_squared_error(test_sln, predictions)\n",
        "R2 = metrics.r2_score(test_sln, predictions)\n",
        "\n",
        "print(\"Non-weighted kNN results:\")\n",
        "print('MSE: ', MSE)\n",
        "print('R^2: ', R2)"
      ],
      "metadata": {
        "colab": {
          "base_uri": "https://localhost:8080/"
        },
        "id": "hPcMq3_OTvjd",
        "outputId": "f16c611a-18e5-4256-de75-0567bfc2365b"
      },
      "execution_count": 4,
      "outputs": [
        {
          "output_type": "stream",
          "name": "stdout",
          "text": [
            "Non-weighted kNN results:\n",
            "MSE:  19789210.811707318\n",
            "R^2:  0.7677539494548122\n"
          ]
        }
      ]
    },
    {
      "cell_type": "code",
      "source": [
        "# Weighted kNN\n",
        "weigh_neigh = neighbors.KNeighborsRegressor(weights = \"distance\") \n",
        "weigh_neigh.fit(train_data, train_sln)\n",
        "weighted_predictions = weigh_neigh.predict(test_data)\n",
        "\n",
        "W_MSE = metrics.mean_squared_error(test_sln, weighted_predictions)\n",
        "W_R2 = metrics.r2_score(test_sln, weighted_predictions)\n",
        "\n",
        "print(\"Weighted kNN results:\")\n",
        "print('MSE: ', W_MSE)\n",
        "print('R^2: ', W_R2)"
      ],
      "metadata": {
        "colab": {
          "base_uri": "https://localhost:8080/"
        },
        "id": "nEPwvHY1T8_F",
        "outputId": "10f613c2-9eba-425a-a4a5-f1ba9d4868b6"
      },
      "execution_count": 5,
      "outputs": [
        {
          "output_type": "stream",
          "name": "stdout",
          "text": [
            "Weighted kNN results:\n",
            "MSE:  13701497.554520918\n",
            "R^2:  0.8391993130059796\n"
          ]
        }
      ]
    },
    {
      "cell_type": "code",
      "source": [
        "# Descion trees\n",
        "dt = tree.DecisionTreeRegressor()\n",
        "dt.fit(train_data,train_sln)\n",
        "dt_predictions = dt.predict(test_data)\n",
        "\n",
        "DT_MSE = metrics.mean_squared_error(test_sln, dt_predictions)\n",
        "DT_R2 = metrics.r2_score(test_sln, dt_predictions)\n",
        "\n",
        "print(\"Decision tree results:\")\n",
        "print('MSE: ', DT_MSE)\n",
        "print('R^2: ', DT_R2)"
      ],
      "metadata": {
        "colab": {
          "base_uri": "https://localhost:8080/"
        },
        "id": "rVy7n3WAT7Sw",
        "outputId": "701cbaed-8a39-4be6-cffa-e8cbaa9923f3"
      },
      "execution_count": 9,
      "outputs": [
        {
          "output_type": "stream",
          "name": "stdout",
          "text": [
            "Decision tree results:\n",
            "MSE:  11851163.92682927\n",
            "R^2:  0.8609148165352111\n"
          ]
        }
      ]
    },
    {
      "cell_type": "code",
      "source": [
        "fig = plt.figure()\n",
        "ax = fig.add_axes([0,0,1,1])\n",
        "langs = ['kNN', 'WkNN', 'DT']\n",
        "values = [R2,W_R2,DT_R2]\n",
        "ax.bar(langs,values)\n",
        "plt.show()"
      ],
      "metadata": {
        "colab": {
          "base_uri": "https://localhost:8080/",
          "height": 336
        },
        "id": "H-0fQ25iXrAu",
        "outputId": "44fc146d-db8a-4d18-8f37-f3d2dce5817e"
      },
      "execution_count": 10,
      "outputs": [
        {
          "output_type": "display_data",
          "data": {
            "text/plain": [
              "<Figure size 432x288 with 1 Axes>"
            ],
            "image/png": "[encoded data removed]"
          },
          "metadata": {
            "needs_background": "light"
          }
        }
      ]
    },
    {
      "cell_type": "markdown",
      "source": [
        "- **Fine Tuning**: Create graphs to help you identify the **optimal** values of parameters you wish to use. Utilize different train/test splits. Full credit for thorough testing and documentation.\n"
      ],
      "metadata": {
        "id": "2sVKwkSRfc1g"
      }
    },
    {
      "cell_type": "code",
      "source": [
        "# for loop for testing train-test split values\n",
        "k = [.05, .1, .15, .2, .25, .3, .35, .4, .45, .5]\n",
        "r2_vals = []\n",
        "for i in k:\n",
        "  test_size = i\n",
        "  target = \"price\"\n",
        "  predictors = car_dummies.columns.drop(target)\n",
        "  train_data, test_data, train_sln, test_sln = \\\n",
        "        train_test_split(car_dummies[predictors], car_dummies[target], test_size = i, random_state=17)\n",
        "        \n",
        "# normalize the data\n",
        "  scaler = StandardScaler()\n",
        "  scaler.fit(train_data)\n",
        "  train_data_normalized = scaler.transform(train_data)\n",
        "  test_data_normalized = scaler.transform(test_data)\n",
        "\n",
        "  neigh = neighbors.KNeighborsRegressor() \n",
        "  neigh.fit(train_data, train_sln)\n",
        "  predictions = neigh.predict(test_data)\n",
        "\n",
        "  R2 = metrics.r2_score(test_sln, predictions)\n",
        "  r2_vals.append(R2)\n",
        "\n",
        "#plot the data\n",
        "plt.suptitle('R^2 Values Testing Splits', fontsize=18)\n",
        "plt.xlabel('Split')\n",
        "plt.ylabel('R^2')\n",
        "plt.plot(k,r2_vals,'ro-', label='kNN')\n",
        "plt.legend(loc='lower left', shadow=True)\n",
        "plt.axis([0,.5,0.7,1])\n",
        "\n",
        "plt.show()  "
      ],
      "metadata": {
        "colab": {
          "base_uri": "https://localhost:8080/",
          "height": 308
        },
        "id": "Ud4s0KqdMP7z",
        "outputId": "87aa2311-41e4-4caa-87cf-2e6d3d99b0fb"
      },
      "execution_count": 11,
      "outputs": [
        {
          "output_type": "display_data",
          "data": {
            "text/plain": [
              "<Figure size 432x288 with 1 Axes>"
            ],
            "image/png": "[encoded data removed]"
          },
          "metadata": {
            "needs_background": "light"
          }
        }
      ]
    },
    {
      "cell_type": "markdown",
      "source": [
        "# **NOTE** \n",
        "I based how well my model predicted the target based on the R^2 value alone, mainly because the MSE was massive and had a huge variance that I believe would've been very difficult to accurately measure.\n",
        "\n",
        "\n",
        "\n",
        "This shows that the best R^2 value for this train-test split is when the split is .1. This will be the value I will tune the rest of my parameters to."
      ],
      "metadata": {
        "id": "NFGYPnxHgSdT"
      }
    },
    {
      "cell_type": "code",
      "source": [
        "# set the target and predictor columns and then split our data, this time with a test_size of .1\n",
        "target = \"price\"\n",
        "predictors = car_dummies.columns.drop(target)\n",
        "train_data, test_data, train_sln, test_sln = \\\n",
        "      train_test_split(car_dummies[predictors], car_dummies[target], test_size = .1, random_state=17)\n",
        "        \n",
        "# normalize the data\n",
        "scaler = StandardScaler()\n",
        "scaler.fit(train_data)\n",
        "train_data_normalized = scaler.transform(train_data)\n",
        "test_data_normalized = scaler.transform(test_data)"
      ],
      "metadata": {
        "id": "sdeTRGPLfwu7"
      },
      "execution_count": 12,
      "outputs": []
    },
    {
      "cell_type": "code",
      "source": [
        "#this cell was used to find the best k-value for predicting the price based on the r^2 \n",
        "k_vals = 25\n",
        "r2_vals = []\n",
        "  \n",
        "for k in range(k_vals):\n",
        "  neigh = neighbors.KNeighborsRegressor(n_neighbors = k+1)\n",
        "  neigh.fit(train_data, train_sln)\n",
        "  predictions = neigh.predict(test_data)\n",
        "  R2 = metrics.r2_score(test_sln, predictions)\n",
        "  r2_vals.append(R2)\n",
        "\n",
        "#plot the data\n",
        "plt.suptitle('R^2 Values for kNN', fontsize=18)\n",
        "plt.xlabel('k')\n",
        "plt.ylabel('R^2')\n",
        "plt.plot(range(k_vals),r2_vals,'ro-', label='kNN')\n",
        "plt.legend(loc='lower left', shadow=True)\n",
        "plt.axis([0,k_vals - 1,0.5,1])\n",
        "\n",
        "plt.show()"
      ],
      "metadata": {
        "colab": {
          "base_uri": "https://localhost:8080/",
          "height": 308
        },
        "id": "87t4QuXaTyJ4",
        "outputId": "608d833e-2503-46e6-ea0c-dc5ed69ec362"
      },
      "execution_count": 13,
      "outputs": [
        {
          "output_type": "display_data",
          "data": {
            "text/plain": [
              "<Figure size 432x288 with 1 Axes>"
            ],
            "image/png": "[encoded data removed]"
          },
          "metadata": {
            "needs_background": "light"
          }
        }
      ]
    },
    {
      "cell_type": "code",
      "source": [
        "#this cell was used to find the best weighted k-value for predicting the price based on the r^2 \n",
        "k_vals = 25\n",
        "w_r2_vals = []\n",
        "  \n",
        "for k in range(k_vals):\n",
        "  weigh_neigh = neighbors.KNeighborsRegressor(n_neighbors = k+1, weights = 'distance') \n",
        "  weigh_neigh.fit(train_data, train_sln)\n",
        "  weighted_predictions = weigh_neigh.predict(test_data)\n",
        "  W_R2 = metrics.r2_score(test_sln, weighted_predictions)\n",
        "  w_r2_vals.append(W_R2)\n",
        "\n",
        "#plot the data\n",
        "plt.suptitle('R^2 Values for WkNN', fontsize=18)\n",
        "plt.xlabel('k')\n",
        "plt.ylabel('R^2')\n",
        "plt.plot(range(k_vals),w_r2_vals,'ro-', label='WkNN')\n",
        "plt.legend(loc='lower left', shadow=True)\n",
        "plt.axis([0,k_vals - 1,.8,1])\n",
        "\n",
        "plt.show()"
      ],
      "metadata": {
        "colab": {
          "base_uri": "https://localhost:8080/",
          "height": 308
        },
        "id": "xYCbAJTuVBGa",
        "outputId": "e89e4458-f74c-466a-d5a1-f7725baf510c"
      },
      "execution_count": 14,
      "outputs": [
        {
          "output_type": "display_data",
          "data": {
            "text/plain": [
              "<Figure size 432x288 with 1 Axes>"
            ],
            "image/png": "[encoded data removed]"
          },
          "metadata": {
            "needs_background": "light"
          }
        }
      ]
    },
    {
      "cell_type": "markdown",
      "source": [
        "# **Note**\n",
        "\n",
        "The value for k is actually 1 greater than the graph shows it to be. This will be the same for many of the other graphs moving forward.\n",
        "\n",
        "The result of this was that the greatest k-value for kNN and WkNN was 2."
      ],
      "metadata": {
        "id": "SkLh65GEROR5"
      }
    },
    {
      "cell_type": "code",
      "source": [
        "#this cell was used to find the best value for parameter p (minkowski metric) based on the r^2\n",
        "p_vals = 25\n",
        "r2_vals = []\n",
        "  \n",
        "for p in range(p_vals):\n",
        "  neigh = neighbors.KNeighborsRegressor(n_neighbors = 2, p = p+1) \n",
        "  neigh.fit(train_data, train_sln)\n",
        "  predictions = neigh.predict(test_data)\n",
        "  R2 = metrics.r2_score(test_sln, predictions)\n",
        "  r2_vals.append(R2)\n",
        "\n",
        "#plot the data\n",
        "plt.suptitle('R^2 Values for Minkowksi Powers, kNN', fontsize=18)\n",
        "plt.xlabel('p')\n",
        "plt.ylabel('R^2')\n",
        "plt.plot(range(p_vals),r2_vals,'ro-', label='kNN')\n",
        "plt.legend(loc='lower left', shadow=True)\n",
        "plt.axis([0,k_vals - 1,0.9,1])\n",
        "\n",
        "plt.show()"
      ],
      "metadata": {
        "colab": {
          "base_uri": "https://localhost:8080/",
          "height": 308
        },
        "id": "pIhPOXgbhb_g",
        "outputId": "7d738f6b-de9a-4cb8-c65c-c1403ced67bc"
      },
      "execution_count": 15,
      "outputs": [
        {
          "output_type": "display_data",
          "data": {
            "text/plain": [
              "<Figure size 432x288 with 1 Axes>"
            ],
            "image/png": "[encoded data removed]"
          },
          "metadata": {
            "needs_background": "light"
          }
        }
      ]
    },
    {
      "cell_type": "code",
      "source": [
        "#this cell was used to find the best value for parameter p (minkowski metric) based on the r^2\n",
        "p_vals = 25\n",
        "w_r2_vals = []\n",
        "  \n",
        "for p in range(p_vals):\n",
        "  weigh_neigh = neighbors.KNeighborsRegressor(n_neighbors = 2, weights = 'distance', p = p+1) \n",
        "  weigh_neigh.fit(train_data, train_sln)\n",
        "  weighted_predictions = weigh_neigh.predict(test_data)\n",
        "  W_R2 = metrics.r2_score(test_sln, weighted_predictions)\n",
        "  w_r2_vals.append(W_R2)\n",
        "\n",
        "#plot the data\n",
        "plt.suptitle('R^2 Values for Minkowksi Powers, WkNN', fontsize=18)\n",
        "plt.xlabel('p')\n",
        "plt.ylabel('R^2')\n",
        "plt.plot(range(p_vals),w_r2_vals,'ro-', label='kNN')\n",
        "plt.legend(loc='lower left', shadow=True)\n",
        "plt.axis([0,k_vals - 1,0.9,1])\n",
        "\n",
        "plt.show()"
      ],
      "metadata": {
        "colab": {
          "base_uri": "https://localhost:8080/",
          "height": 308
        },
        "id": "2t3uJ6LZpI85",
        "outputId": "bfa5a396-6aaf-4780-c8ff-35734596f32a"
      },
      "execution_count": 16,
      "outputs": [
        {
          "output_type": "display_data",
          "data": {
            "text/plain": [
              "<Figure size 432x288 with 1 Axes>"
            ],
            "image/png": "[encoded data removed]"
          },
          "metadata": {
            "needs_background": "light"
          }
        }
      ]
    },
    {
      "cell_type": "markdown",
      "source": [
        "The best power parameter for the Minkowski Metric was 1. This means that Manhattan distance is the best way to measure the distance, as opposed to Euclidean distance which is the default."
      ],
      "metadata": {
        "id": "-VFb9XBjlnFt"
      }
    },
    {
      "cell_type": "code",
      "source": [
        "# this cell is used to find the best max_depth of the decision tree based on the r^2\n",
        "depth_vals = 20\n",
        "dt_r2_vals = []\n",
        "for i in range(depth_vals):\n",
        "  dt = tree.DecisionTreeRegressor(max_depth = i + 1) \n",
        "  dt.fit(train_data, train_sln)\n",
        "  predictions = dt.predict(test_data)\n",
        "  DT_R2 = metrics.r2_score(test_sln, predictions)\n",
        "  dt_r2_vals.append(DT_R2)\n",
        "\n",
        "#plot the data\n",
        "plt.suptitle('R^2 Values for Max Depths', fontsize=18)\n",
        "plt.xlabel('Max Depth')\n",
        "plt.ylabel('R^2')\n",
        "plt.plot(range(depth_vals),dt_r2_vals,'ro-', label='kNN')\n",
        "plt.legend(loc='lower left', shadow=True)\n",
        "plt.axis([0,depth_vals-1,0.8,1])\n",
        "\n",
        "plt.show()"
      ],
      "metadata": {
        "colab": {
          "base_uri": "https://localhost:8080/",
          "height": 308
        },
        "id": "0F5c2zicpFZR",
        "outputId": "761c48c0-6b88-4208-ae2c-be2b6e663e32"
      },
      "execution_count": 17,
      "outputs": [
        {
          "output_type": "display_data",
          "data": {
            "text/plain": [
              "<Figure size 432x288 with 1 Axes>"
            ],
            "image/png": "[encoded data removed]"
          },
          "metadata": {
            "needs_background": "light"
          }
        }
      ]
    },
    {
      "cell_type": "markdown",
      "source": [
        "This shows that the greatest max depth for predicting the target variable was 3, based on the R^2 values as shown in the graph."
      ],
      "metadata": {
        "id": "ZhROeLieuDFX"
      }
    },
    {
      "cell_type": "code",
      "source": [
        "# this cell is used to test what is the best criterion for our decision tree\n",
        "dt = tree.DecisionTreeRegressor(max_depth = 3, criterion = 'squared_error')\n",
        "dt.fit(train_data,train_sln)\n",
        "dt_predictions = dt.predict(test_data)\n",
        "\n",
        "DT_MSE = metrics.mean_squared_error(test_sln, dt_predictions)\n",
        "DT_R2 = metrics.r2_score(test_sln, dt_predictions)\n",
        "\n",
        "print(\"Squared Error Results:\")\n",
        "print('MSE: ', DT_MSE)\n",
        "print('R^2: ', DT_R2)\n",
        "\n",
        "dt = tree.DecisionTreeRegressor(max_depth = 3, criterion = 'friedman_mse')\n",
        "dt.fit(train_data,train_sln)\n",
        "dt_predictions = dt.predict(test_data)\n",
        "\n",
        "DT_MSE = metrics.mean_squared_error(test_sln, dt_predictions)\n",
        "DT_R2 = metrics.r2_score(test_sln, dt_predictions)\n",
        "\n",
        "print(\"Friedman MSE Results:\")\n",
        "print('MSE: ', DT_MSE)\n",
        "print('R^2: ', DT_R2)\n",
        "\n",
        "dt = tree.DecisionTreeRegressor(max_depth = 3, criterion = 'absolute_error')\n",
        "dt.fit(train_data,train_sln)\n",
        "dt_predictions = dt.predict(test_data)\n",
        "\n",
        "DT_MSE = metrics.mean_squared_error(test_sln, dt_predictions)\n",
        "DT_R2 = metrics.r2_score(test_sln, dt_predictions)\n",
        "\n",
        "print(\"Absolute Error Results:\")\n",
        "print('MSE: ', DT_MSE)\n",
        "print('R^2: ', DT_R2)\n",
        "\n",
        "dt = tree.DecisionTreeRegressor(max_depth = 3, criterion = 'poisson')\n",
        "dt.fit(train_data,train_sln)\n",
        "dt_predictions = dt.predict(test_data)\n",
        "\n",
        "DT_MSE = metrics.mean_squared_error(test_sln, dt_predictions)\n",
        "DT_R2 = metrics.r2_score(test_sln, dt_predictions)\n",
        "\n",
        "print(\"Poisson Results:\")\n",
        "print('MSE: ', DT_MSE)\n",
        "print('R^2: ', DT_R2)"
      ],
      "metadata": {
        "colab": {
          "base_uri": "https://localhost:8080/"
        },
        "id": "y5VkJhp3vBtt",
        "outputId": "0afbf8a1-2a70-46d5-fac9-3c1c63690512"
      },
      "execution_count": 18,
      "outputs": [
        {
          "output_type": "stream",
          "name": "stdout",
          "text": [
            "Squared Error Results:\n",
            "MSE:  3989206.8104460933\n",
            "R^2:  0.9605941610675379\n",
            "Friedman MSE Results:\n",
            "MSE:  3989206.8104460933\n",
            "R^2:  0.9605941610675379\n",
            "Absolute Error Results:\n",
            "MSE:  7147487.095238095\n",
            "R^2:  0.9293963089330763\n",
            "Poisson Results:\n",
            "MSE:  72027826.5513586\n",
            "R^2:  0.28850093098563656\n"
          ]
        }
      ]
    },
    {
      "cell_type": "markdown",
      "source": [
        "This shows that the default criterion and friedman mse both return the best result, so I will be continuing to use squared_error as my criterion."
      ],
      "metadata": {
        "id": "OslR7anYxmCz"
      }
    },
    {
      "cell_type": "code",
      "source": [
        "# Non-weighted kNN with adjusted parameters\n",
        "neigh = neighbors.KNeighborsRegressor(n_neighbors = 2, p = 1) \n",
        "neigh.fit(train_data, train_sln)\n",
        "predictions = neigh.predict(test_data)\n",
        "\n",
        "adj_MSE = metrics.mean_squared_error(test_sln, predictions)\n",
        "adj_R2 = metrics.r2_score(test_sln, predictions)\n",
        "\n",
        "print(\"Non-weighted kNN results:\")\n",
        "print('MSE: ', adj_MSE)\n",
        "print('R^2: ', adj_R2)"
      ],
      "metadata": {
        "colab": {
          "base_uri": "https://localhost:8080/"
        },
        "id": "GsFnKdMaQ3wQ",
        "outputId": "5c72085b-1010-414b-c53a-53a7e7774274"
      },
      "execution_count": 19,
      "outputs": [
        {
          "output_type": "stream",
          "name": "stdout",
          "text": [
            "Non-weighted kNN results:\n",
            "MSE:  2589479.1904761903\n",
            "R^2:  0.9744208298171795\n"
          ]
        }
      ]
    },
    {
      "cell_type": "code",
      "source": [
        "# Weighted kNN with adjusted parameters\n",
        "weigh_neigh = neighbors.KNeighborsRegressor(weights = \"distance\", n_neighbors = 2, p = 1) \n",
        "weigh_neigh.fit(train_data, train_sln)\n",
        "weighted_predictions = weigh_neigh.predict(test_data)\n",
        "\n",
        "adj_W_MSE = metrics.mean_squared_error(test_sln, weighted_predictions)\n",
        "adj_W_R2 = metrics.r2_score(test_sln, weighted_predictions)\n",
        "\n",
        "print(\"Weighted kNN results:\")\n",
        "print('MSE: ', adj_W_MSE)\n",
        "print('R^2: ', adj_W_R2)"
      ],
      "metadata": {
        "colab": {
          "base_uri": "https://localhost:8080/"
        },
        "id": "LYMGXJYeqtMZ",
        "outputId": "492bf9f7-496b-4fef-c423-2909c9d6050f"
      },
      "execution_count": 20,
      "outputs": [
        {
          "output_type": "stream",
          "name": "stdout",
          "text": [
            "Weighted kNN results:\n",
            "MSE:  2585240.529443759\n",
            "R^2:  0.9744626997933101\n"
          ]
        }
      ]
    },
    {
      "cell_type": "code",
      "source": [
        "# Descion trees with adjusted parameters\n",
        "dt = tree.DecisionTreeRegressor(max_depth=3)\n",
        "dt.fit(train_data,train_sln)\n",
        "dt_predictions = dt.predict(test_data)\n",
        "\n",
        "adj_DT_MSE = metrics.mean_squared_error(test_sln, dt_predictions)\n",
        "adj_DT_R2 = metrics.r2_score(test_sln, dt_predictions)\n",
        "\n",
        "print(\"Decision tree results:\")\n",
        "print('MSE: ', adj_DT_MSE)\n",
        "print('R^2: ', adj_DT_R2)"
      ],
      "metadata": {
        "colab": {
          "base_uri": "https://localhost:8080/"
        },
        "id": "NCD6I3UlyNeC",
        "outputId": "9f2ee621-59c1-4d12-fb90-264f030f3f05"
      },
      "execution_count": 21,
      "outputs": [
        {
          "output_type": "stream",
          "name": "stdout",
          "text": [
            "Decision tree results:\n",
            "MSE:  3989206.8104460933\n",
            "R^2:  0.9605941610675379\n"
          ]
        }
      ]
    },
    {
      "cell_type": "code",
      "source": [
        "fig = plt.figure()\n",
        "ax = fig.add_axes([0,0,1,1])\n",
        "langs = ['kNN', 'WkNN', 'DT']\n",
        "values = [adj_R2,adj_W_R2,adj_DT_R2]\n",
        "ax.bar(langs,values)\n",
        "plt.show()"
      ],
      "metadata": {
        "colab": {
          "base_uri": "https://localhost:8080/",
          "height": 336
        },
        "id": "hU95zg6uygWV",
        "outputId": "898b571b-7066-4b7a-da1c-ddd041877148"
      },
      "execution_count": 22,
      "outputs": [
        {
          "output_type": "display_data",
          "data": {
            "text/plain": [
              "<Figure size 432x288 with 1 Axes>"
            ],
            "image/png": "[encoded data removed]"
          },
          "metadata": {
            "needs_background": "light"
          }
        }
      ]
    },
    {
      "cell_type": "markdown",
      "source": [
        "- **Analysis**: What did you determine? What did you notice? How did you identify which learning algorithms you will try and which important parameters you will tune for each one? What is your predictions for the 'competition testing set'.\n",
        "\n"
      ],
      "metadata": {
        "id": "BuAc13cbfeTw"
      }
    },
    {
      "cell_type": "markdown",
      "source": [
        "I learned that the train-test split can have a pretty large effect on the model, as well as the k-value. When it comes to decision trees, the max depth can also be pretty vital in creating a good model. These parameters seemed the most important to me because I felt that they would relate directly to much of what we've been talking about in class. I predict that my model won't work nearly as well on the 'competition testing set' due to the nature of basing it on a random state. These parameters worked the best for my random state, so I'm sure that it will perform worse when that is changed."
      ],
      "metadata": {
        "id": "a2yF8RNm4obV"
      }
    },
    {
      "cell_type": "markdown",
      "source": [
        "# Part 2: Classification\n",
        "How well can you predict `carbody`?"
      ],
      "metadata": {
        "id": "V66vPg8kI8Ld"
      }
    },
    {
      "cell_type": "markdown",
      "source": [
        "- **Metrics**: Identify which metrics you will be using to test your model, and say why they are appropriate. Identify a baseline for your metrics - what would you expect to happen with this particular data if you always guessed the average or if you guessed randomly?\n"
      ],
      "metadata": {
        "id": "40_i2vfNfjfi"
      }
    },
    {
      "cell_type": "markdown",
      "source": [
        "Accuracy is the metric I will be using to test my model. This is appropriate because it is a measure of whether not something is classified as the right value. It is strictly a yes or no answer, which is different from our regression metrics. The accuracy of the model is a percentage between 0-100. If we guessed randomly with this data, I would expect a lower accuracy since there are multiple possible carbody values to guess."
      ],
      "metadata": {
        "id": "j16T8y_h5iGO"
      }
    },
    {
      "cell_type": "markdown",
      "source": [
        "- **Initial Models**: Develop basic code for kNN, weighted kNN, and Decision Trees. Make some experiments here, including graphs to help you identify which algorithm and parameters may be best.\n"
      ],
      "metadata": {
        "id": "Mhfl0tu4fnI_"
      }
    },
    {
      "cell_type": "code",
      "source": [
        "# I chose to clean the data once again for classification since the target variable is different here\n",
        "car_data = pandas.read_csv('/content/drive/MyDrive/CS167Datasets/CarPricesProject1.csv')\n",
        "\n",
        "# I dropped n/a values from the carbody column\n",
        "car_data.dropna(subset = [\"carbody\"], inplace = True)\n",
        "\n",
        "# dropped the \"CarName\" column as I did earlier\n",
        "car_data.drop([\"CarName\"], axis = 1, inplace = True)\n",
        "\n",
        "#same reason as before\n",
        "car_data[\"doornumber\"].replace([\"two\",\"four\"], [2,4], inplace = True)\n",
        "car_data[\"cylindernumber\"].replace([\"two\", \"three\", \"four\", \"five\", \"six\", \"eight\", \"twelve\"], [2,3,4,5,6,8,12], inplace = True)\n",
        "\n",
        "#same as befoe with price included\n",
        "for col in [\"symboling\", \"doornumber\", \"wheelbase\", \"carlength\", \"carwidth\", \"carheight\", \"curbweight\", \"cylindernumber\", \"enginesize\", \"boreratio\", \"stroke\", \"compressionratio\", \"horsepower\", \"peakrpm\", \"citympg\", \"highwaympg\", \"price\"]:\n",
        "  car_data[col].fillna(car_data[col].mean(), inplace = True)\n",
        "\n",
        "#same as before with carbody removed\n",
        "for col in [\"fueltype\", \"aspiration\", \"drivewheel\", \"enginelocation\", \"enginetype\", \"fuelsystem\"]:\n",
        "  car_data[col].fillna(\"null\", inplace = True)\n",
        "\n",
        "#created dummy variables for all of the categorical data\n",
        "car_dummies = pandas.get_dummies(car_data, columns = [\"fueltype\", \"aspiration\", \"drivewheel\", \"enginelocation\", \"enginetype\", \"fuelsystem\"])\n",
        "\n",
        "# Split the data based on the new target variable \n",
        "target = \"carbody\"\n",
        "predictors = car_dummies.columns.drop(target)\n",
        "train_data, test_data, train_sln, test_sln = \\\n",
        "        train_test_split(car_dummies[predictors], car_dummies[target], test_size = 0.2, random_state=17)\n",
        "\n",
        "#normalize the data after splitting\n",
        "from sklearn.preprocessing import StandardScaler\n",
        "scaler = StandardScaler()\n",
        "scaler.fit(train_data)\n",
        "train_data_normalized = scaler.transform(train_data)\n",
        "test_data_normalized = scaler.transform(test_data)"
      ],
      "metadata": {
        "id": "Y4t3d9v2XNOg"
      },
      "execution_count": 24,
      "outputs": []
    },
    {
      "cell_type": "code",
      "source": [
        "# non-weighted kNN \n",
        "neigh = neighbors.KNeighborsClassifier() \n",
        "neigh.fit(train_data, train_sln)\n",
        "predictions = neigh.predict(test_data)\n",
        "\n",
        "AC = metrics.accuracy_score(test_sln,predictions)\n",
        "\n",
        "print(\"kNN non-weighted Accuracy:\")\n",
        "print(\"Accuracy:\", AC)"
      ],
      "metadata": {
        "colab": {
          "base_uri": "https://localhost:8080/"
        },
        "id": "F2EhKSoe6qI7",
        "outputId": "f605f6ca-a6bf-49a0-f41f-1c680d6218e4"
      },
      "execution_count": 29,
      "outputs": [
        {
          "output_type": "stream",
          "name": "stdout",
          "text": [
            "kNN non-weighted Accuracy:\n",
            "Accuracy: 0.43902439024390244\n"
          ]
        }
      ]
    },
    {
      "cell_type": "code",
      "source": [
        "# Weighted kNN\n",
        "weigh_neigh = neighbors.KNeighborsClassifier(weights = \"distance\") \n",
        "weigh_neigh.fit(train_data, train_sln)\n",
        "weighted_predictions = weigh_neigh.predict(test_data)\n",
        "\n",
        "W_AC = metrics.accuracy_score(test_sln,weighted_predictions)\n",
        "\n",
        "print(\"kNN weighted Accuracy:\")\n",
        "print(\"Accuracy:\", W_AC)"
      ],
      "metadata": {
        "colab": {
          "base_uri": "https://localhost:8080/"
        },
        "id": "QSzGRdkQJ2N-",
        "outputId": "d694a4f0-a01c-4d09-80f7-35960c4b9fcf"
      },
      "execution_count": 30,
      "outputs": [
        {
          "output_type": "stream",
          "name": "stdout",
          "text": [
            "kNN weighted Accuracy:\n",
            "Accuracy: 0.43902439024390244\n"
          ]
        }
      ]
    },
    {
      "cell_type": "code",
      "source": [
        "# Decision Tree\n",
        "dt = tree.DecisionTreeClassifier()\n",
        "dt.fit(train_data,train_sln)\n",
        "dt_predictions = dt.predict(test_data)\n",
        "\n",
        "DT_AC = metrics.accuracy_score(test_sln,dt_predictions)\n",
        "\n",
        "print(\"Decision tree results:\")\n",
        "print(\"Accuracy:\", DT_AC)"
      ],
      "metadata": {
        "colab": {
          "base_uri": "https://localhost:8080/"
        },
        "id": "JGACxqg9Kdu5",
        "outputId": "b272b8b1-2b20-48e9-8d9f-bcceac8151e2"
      },
      "execution_count": 91,
      "outputs": [
        {
          "output_type": "stream",
          "name": "stdout",
          "text": [
            "Decision tree results:\n",
            "Accuracy: 0.7272727272727273\n"
          ]
        }
      ]
    },
    {
      "cell_type": "code",
      "source": [
        "fig = plt.figure()\n",
        "ax = fig.add_axes([0,0,1,1])\n",
        "langs = ['kNN', 'WkNN', 'DT']\n",
        "values = [AC,W_AC,DT_AC]\n",
        "ax.bar(langs,values)\n",
        "plt.show()"
      ],
      "metadata": {
        "colab": {
          "base_uri": "https://localhost:8080/",
          "height": 336
        },
        "id": "Q6wRIBWJKqzn",
        "outputId": "c896bb86-aabd-4fcb-be47-8b2821ea6150"
      },
      "execution_count": 92,
      "outputs": [
        {
          "output_type": "display_data",
          "data": {
            "text/plain": [
              "<Figure size 432x288 with 1 Axes>"
            ],
            "image/png": "[encoded data removed]"
          },
          "metadata": {
            "needs_background": "light"
          }
        }
      ]
    },
    {
      "cell_type": "markdown",
      "source": [
        "At the offset, the Decision Tree was the most accurate when it came to classifying the carbody variable. I suspect this is because there is a small number of predictor variables that have a higher than normal chance to predict the target correctly, as opposed to all variables having equal weight. This is something we discussed in class and was on our first exam."
      ],
      "metadata": {
        "id": "uREL6ZbmLBd5"
      }
    },
    {
      "cell_type": "markdown",
      "source": [
        "- **Fine Tuning**: Create graphs to help you identify the **optimal** values of parameters you wish to use. Utilize different train/test splits. Full credit for thorough testing and documentation.\n"
      ],
      "metadata": {
        "id": "abe3P_8ofpD6"
      }
    },
    {
      "cell_type": "code",
      "source": [
        "# for loop for testing train-test split values\n",
        "k = [.05, .1, .15, .2, .25, .3, .35, .4, .45, .5]\n",
        "ac_vals = []\n",
        "for i in k:\n",
        "  test_size = i\n",
        "  target = \"carbody\"\n",
        "  predictors = car_dummies.columns.drop(target)\n",
        "  train_data, test_data, train_sln, test_sln = \\\n",
        "        train_test_split(car_dummies[predictors], car_dummies[target], test_size = i, random_state=17)\n",
        "        \n",
        "# normalize the data\n",
        "  scaler = StandardScaler()\n",
        "  scaler.fit(train_data)\n",
        "  train_data_normalized = scaler.transform(train_data)\n",
        "  test_data_normalized = scaler.transform(test_data)\n",
        "\n",
        "  neigh = neighbors.KNeighborsClassifier() \n",
        "  neigh.fit(train_data, train_sln)\n",
        "  predictions = neigh.predict(test_data)\n",
        "\n",
        "  AC = metrics.accuracy_score(test_sln, predictions)\n",
        "  ac_vals.append(AC)\n",
        "\n",
        "#plot the data\n",
        "plt.suptitle('AC Values Testing Splits', fontsize=18)\n",
        "plt.xlabel('Split')\n",
        "plt.ylabel('AC')\n",
        "plt.plot(k,ac_vals,'ro-', label='kNN')\n",
        "plt.legend(loc='lower left', shadow=True)\n",
        "plt.axis([0,.5,0.2,.6])\n",
        "\n",
        "plt.show() "
      ],
      "metadata": {
        "colab": {
          "base_uri": "https://localhost:8080/",
          "height": 308
        },
        "id": "cQZEC1lkLxCo",
        "outputId": "3d4b02ff-e7e0-4f09-e616-b2805b4e2954"
      },
      "execution_count": 93,
      "outputs": [
        {
          "output_type": "display_data",
          "data": {
            "text/plain": [
              "<Figure size 432x288 with 1 Axes>"
            ],
            "image/png": "[encoded data removed]"
          },
          "metadata": {
            "needs_background": "light"
          }
        }
      ]
    },
    {
      "cell_type": "markdown",
      "source": [
        "This shows that the most accurate results come from a .05 train-test split, so I will be using that split from here on when it comes to classification."
      ],
      "metadata": {
        "id": "qXAqN_ytMWN0"
      }
    },
    {
      "cell_type": "code",
      "source": [
        "# set the target and predictor columns and then split our data, this time with a test_size of .1\n",
        "target = \"carbody\"\n",
        "predictors = car_dummies.columns.drop(target)\n",
        "train_data, test_data, train_sln, test_sln = \\\n",
        "      train_test_split(car_dummies[predictors], car_dummies[target], test_size = .05, random_state=17)\n",
        "        \n",
        "# normalize the data\n",
        "scaler = StandardScaler()\n",
        "scaler.fit(train_data)\n",
        "train_data_normalized = scaler.transform(train_data)\n",
        "test_data_normalized = scaler.transform(test_data)"
      ],
      "metadata": {
        "id": "phHk4U-_MjSQ"
      },
      "execution_count": 94,
      "outputs": []
    },
    {
      "cell_type": "code",
      "source": [
        "# this loop tests k values from 1-25 for the most accurate one\n",
        "k_vals = 25\n",
        "ac_vals = []\n",
        "for k in range(k_vals):\n",
        " neigh = neighbors.KNeighborsClassifier(n_neighbors = k+1)\n",
        " neigh.fit(train_data, train_sln)\n",
        " predictions = neigh.predict(test_data)\n",
        "\n",
        " AC = metrics.accuracy_score(test_sln,predictions)\n",
        " ac_vals.append(AC)\n",
        " \n",
        "#plot the data\n",
        "plt.suptitle('Accuracy Values for kNN', fontsize=18)\n",
        "plt.xlabel('k')\n",
        "plt.ylabel('Accuracy')\n",
        "plt.plot(range(k_vals),ac_vals,'ro-', label='kNN')\n",
        "plt.legend(loc='lower left', shadow=True)\n",
        "plt.axis([0,k_vals - 1,0.2,.6])\n",
        " \n",
        "plt.show()"
      ],
      "metadata": {
        "colab": {
          "base_uri": "https://localhost:8080/",
          "height": 308
        },
        "id": "lvgerRLsLdjP",
        "outputId": "0565f55c-b5a1-462a-b25a-7870fba1f1dd"
      },
      "execution_count": 95,
      "outputs": [
        {
          "output_type": "display_data",
          "data": {
            "text/plain": [
              "<Figure size 432x288 with 1 Axes>"
            ],
            "image/png": "[encoded data removed]"
          },
          "metadata": {
            "needs_background": "light"
          }
        }
      ]
    },
    {
      "cell_type": "code",
      "source": [
        "# this loop determines what k value is the most accurate for weighted kNN\n",
        "k_vals = 25\n",
        "ac_vals = []\n",
        "for k in range(k_vals):\n",
        "  weigh_neigh = neighbors.KNeighborsClassifier(weights = \"distance\", n_neighbors = k+1) \n",
        "  weigh_neigh.fit(train_data, train_sln)\n",
        "  weighted_predictions = weigh_neigh.predict(test_data)\n",
        "\n",
        "  W_AC = metrics.accuracy_score(test_sln,weighted_predictions)\n",
        "  ac_vals.append(W_AC)\n",
        " \n",
        "#plot the data\n",
        "plt.suptitle('Accuracy Values for kNN, Weighted', fontsize=18)\n",
        "plt.xlabel('k')\n",
        "plt.ylabel('Accuracy')\n",
        "plt.plot(range(k_vals),ac_vals,'ro-', label='kNN')\n",
        "plt.legend(loc='lower left', shadow=True)\n",
        "plt.axis([0,k_vals - 1,0.1,.6])\n",
        " \n",
        "plt.show()"
      ],
      "metadata": {
        "colab": {
          "base_uri": "https://localhost:8080/",
          "height": 308
        },
        "id": "0KuIy1gLNBDM",
        "outputId": "d3d1a884-c3ae-42ce-edae-1e2853788ea7"
      },
      "execution_count": 96,
      "outputs": [
        {
          "output_type": "display_data",
          "data": {
            "text/plain": [
              "<Figure size 432x288 with 1 Axes>"
            ],
            "image/png": "[encoded data removed]"
          },
          "metadata": {
            "needs_background": "light"
          }
        }
      ]
    },
    {
      "cell_type": "markdown",
      "source": [
        "These tests show that the weighted and non-weighted kNN have 2 different k-values that provide the most accurate results. For non-weighted kNN, 4 provided the most accurate prediction, while for weighted kNN, 15 provided the most accurate prediction. These will be what I set the n_neighbors parameter to."
      ],
      "metadata": {
        "id": "q-gnssJ_NzFR"
      }
    },
    {
      "cell_type": "code",
      "source": [
        "#this cell was used to find the best value for parameter p (minkowski metric) based on the accuracy, kNN non-weighted\n",
        "p_vals = 25\n",
        "ac_vals = []\n",
        "  \n",
        "for p in range(p_vals):\n",
        "  neigh = neighbors.KNeighborsClassifier(n_neighbors = 4, p = p+1) \n",
        "  neigh.fit(train_data, train_sln)\n",
        "  predictions = neigh.predict(test_data)\n",
        "  AC = metrics.accuracy_score(test_sln, predictions)\n",
        "  ac_vals.append(AC)\n",
        "\n",
        "#plot the data\n",
        "plt.suptitle('Accuracy Values for Minkowksi Powers, kNN', fontsize=18)\n",
        "plt.xlabel('p')\n",
        "plt.ylabel('AC')\n",
        "plt.plot(range(p_vals),ac_vals,'ro-', label='p')\n",
        "plt.legend(loc='lower left', shadow=True)\n",
        "plt.axis([0,k_vals - 1,0.4,.6])\n",
        "\n",
        "plt.show()"
      ],
      "metadata": {
        "colab": {
          "base_uri": "https://localhost:8080/",
          "height": 308
        },
        "id": "2F8b4vxiPi_n",
        "outputId": "52d30061-4db8-4a50-fb8f-baa68fbc87dc"
      },
      "execution_count": 97,
      "outputs": [
        {
          "output_type": "display_data",
          "data": {
            "text/plain": [
              "<Figure size 432x288 with 1 Axes>"
            ],
            "image/png": "[encoded data removed]"
          },
          "metadata": {
            "needs_background": "light"
          }
        }
      ]
    },
    {
      "cell_type": "code",
      "source": [
        "#this cell was used to find the best value for parameter p (minkowski metric) based on the r^2\n",
        "p_vals = 25\n",
        "w_ac_vals = []\n",
        "  \n",
        "for p in range(p_vals):\n",
        "  weigh_neigh = neighbors.KNeighborsClassifier(n_neighbors = 15, weights = 'distance', p = p+1) \n",
        "  weigh_neigh.fit(train_data, train_sln)\n",
        "  weighted_predictions = weigh_neigh.predict(test_data)\n",
        "  W_AC = metrics.accuracy_score(test_sln, weighted_predictions)\n",
        "  w_ac_vals.append(W_AC)\n",
        "\n",
        "#plot the data\n",
        "plt.suptitle('Accuracy Values for Minkowksi Powers, WkNN', fontsize=18)\n",
        "plt.xlabel('p')\n",
        "plt.ylabel('Accuracy')\n",
        "plt.plot(range(p_vals),w_ac_vals,'ro-', label='p')\n",
        "plt.legend(loc='lower left', shadow=True)\n",
        "plt.axis([0,k_vals - 1,0.35,.6])\n",
        "\n",
        "plt.show()"
      ],
      "metadata": {
        "colab": {
          "base_uri": "https://localhost:8080/",
          "height": 308
        },
        "id": "s0Z-X7nkQHpL",
        "outputId": "bf3ab588-f7d7-46e9-89a1-a96a4684a2fa"
      },
      "execution_count": 98,
      "outputs": [
        {
          "output_type": "display_data",
          "data": {
            "text/plain": [
              "<Figure size 432x288 with 1 Axes>"
            ],
            "image/png": "[encoded data removed]"
          },
          "metadata": {
            "needs_background": "light"
          }
        }
      ]
    },
    {
      "cell_type": "markdown",
      "source": [
        "Both of these testing cells show that the best p value for the Minkowski metric is 2, meaning we use the default Euclidean distance."
      ],
      "metadata": {
        "id": "7oFaUB-_QeOP"
      }
    },
    {
      "cell_type": "code",
      "source": [
        "# this loop will see what decision tree max_depth is the most accurate\n",
        "depth_vals = 25\n",
        "ac_vals = []\n",
        "for k in range(depth_vals):\n",
        " dt = tree.DecisionTreeClassifier(max_depth = depth_vals + 1)\n",
        " dt.fit(train_data, train_sln)\n",
        " dt_predictions = dt.predict(test_data)\n",
        " DT_AC = metrics.accuracy_score(test_sln,dt_predictions)\n",
        " ac_vals.append(DT_AC)\n",
        " \n",
        "#plot the data\n",
        "plt.suptitle('Accuracy Values for DT', fontsize=18)\n",
        "plt.xlabel('depth')\n",
        "plt.ylabel('Accuracy')\n",
        "plt.plot(range(depth_vals),ac_vals,'ro-', label='kNN')\n",
        "plt.legend(loc='lower left', shadow=True)\n",
        "plt.axis([0,depth_vals - 1,0.6,.84])\n",
        " \n",
        "plt.show()"
      ],
      "metadata": {
        "colab": {
          "base_uri": "https://localhost:8080/",
          "height": 308
        },
        "id": "RIsLrAdaOUv8",
        "outputId": "9f5a71ce-c1a2-4ea1-b654-b690882a0251"
      },
      "execution_count": 99,
      "outputs": [
        {
          "output_type": "display_data",
          "data": {
            "text/plain": [
              "<Figure size 432x288 with 1 Axes>"
            ],
            "image/png": "[encoded data removed]"
          },
          "metadata": {
            "needs_background": "light"
          }
        }
      ]
    },
    {
      "cell_type": "markdown",
      "source": [
        "This graph shows that many max_depth values provide the most accurate result, but for purposes of avoiding overfitting, I will choose the smallest value, which is 3. It should be noted that this graph changes when running it again, but the most accurate result I could get consistently was the one shown.\n",
        "\n",
        "# **NOTE**\n",
        "\n",
        "I have no clue why the accuracy values here appear to be so much higher than before, and cannot figure out as to why this happened, so I'm sure I made a mistake in my code somewhere."
      ],
      "metadata": {
        "id": "e-OWL1HPOtsU"
      }
    },
    {
      "cell_type": "code",
      "source": [
        "# this cell is used to test what is the best criterion for our decision tree\n",
        "dt = tree.DecisionTreeClassifier(max_depth = 3, criterion = 'gini')\n",
        "dt.fit(train_data,train_sln)\n",
        "dt_predictions = dt.predict(test_data)\n",
        "\n",
        "DT_AC = metrics.accuracy_score(test_sln, dt_predictions)\n",
        "\n",
        "print(\"Gini results:\")\n",
        "print('Accuracy: ', DT_AC)\n",
        "\n",
        "dt = tree.DecisionTreeClassifier(max_depth = 3, criterion = 'entropy')\n",
        "dt.fit(train_data,train_sln)\n",
        "dt_predictions = dt.predict(test_data)\n",
        "\n",
        "DT_AC = metrics.accuracy_score(test_sln, dt_predictions)\n",
        "\n",
        "print(\"Entropy Results:\")\n",
        "print('Accuracy: ', DT_AC)"
      ],
      "metadata": {
        "colab": {
          "base_uri": "https://localhost:8080/"
        },
        "id": "z6hawZeNQ5GC",
        "outputId": "9de25601-1e81-42e4-aa54-b8ce63c80656"
      },
      "execution_count": 101,
      "outputs": [
        {
          "output_type": "stream",
          "name": "stdout",
          "text": [
            "Gini results:\n",
            "Accuracy:  0.5454545454545454\n",
            "Entropy Results:\n",
            "Accuracy:  0.5454545454545454\n"
          ]
        }
      ]
    },
    {
      "cell_type": "markdown",
      "source": [
        "The most accurate criterion for our decision tree was a tie between Gini and Entropy, so I will continue to use Gini as the criterion. Let it be noted that I tried to include log_loss as a criterion as well, but was given errors when trying to implement it, so I removed it."
      ],
      "metadata": {
        "id": "8YJJ4g6uSeUq"
      }
    },
    {
      "cell_type": "code",
      "source": [
        "# non-weighted kNN with adjusted parameters\n",
        "neigh = neighbors.KNeighborsClassifier(n_neighbors = 4) \n",
        "neigh.fit(train_data, train_sln)\n",
        "predictions = neigh.predict(test_data)\n",
        "\n",
        "AC = metrics.accuracy_score(test_sln,predictions)\n",
        "\n",
        "print(\"kNN non-weighted Accuracy:\")\n",
        "print(\"Accuracy:\", AC)"
      ],
      "metadata": {
        "colab": {
          "base_uri": "https://localhost:8080/"
        },
        "id": "HYPWvPOZSzXU",
        "outputId": "0f3681b6-72cd-4e94-c047-80ddcbb0da52"
      },
      "execution_count": 102,
      "outputs": [
        {
          "output_type": "stream",
          "name": "stdout",
          "text": [
            "kNN non-weighted Accuracy:\n",
            "Accuracy: 0.5454545454545454\n"
          ]
        }
      ]
    },
    {
      "cell_type": "code",
      "source": [
        "# Weighted kNN with adjusted parameters\n",
        "weigh_neigh = neighbors.KNeighborsClassifier(weights = \"distance\", n_neighbors = 15) \n",
        "weigh_neigh.fit(train_data, train_sln)\n",
        "weighted_predictions = weigh_neigh.predict(test_data)\n",
        "\n",
        "W_AC = metrics.accuracy_score(test_sln,weighted_predictions)\n",
        "\n",
        "print(\"kNN weighted Accuracy:\")\n",
        "print(\"Accuracy:\", W_AC)"
      ],
      "metadata": {
        "colab": {
          "base_uri": "https://localhost:8080/"
        },
        "id": "-nyDG86aT96p",
        "outputId": "770dd295-6513-43ca-89c5-b89d2279552a"
      },
      "execution_count": 103,
      "outputs": [
        {
          "output_type": "stream",
          "name": "stdout",
          "text": [
            "kNN weighted Accuracy:\n",
            "Accuracy: 0.5454545454545454\n"
          ]
        }
      ]
    },
    {
      "cell_type": "code",
      "source": [
        "# Decision Tree with adjusted parameters\n",
        "dt = tree.DecisionTreeClassifier(max_depth = 3)\n",
        "dt.fit(train_data,train_sln)\n",
        "dt_predictions = dt.predict(test_data)\n",
        "\n",
        "DT_AC = metrics.accuracy_score(test_sln,dt_predictions)\n",
        "\n",
        "print(\"Decision tree results:\")\n",
        "print(\"Accuracy:\", DT_AC)"
      ],
      "metadata": {
        "colab": {
          "base_uri": "https://localhost:8080/"
        },
        "id": "3LQjCD71U623",
        "outputId": "2d18c061-a6b7-4d67-f662-fb28bc1e15d7"
      },
      "execution_count": 109,
      "outputs": [
        {
          "output_type": "stream",
          "name": "stdout",
          "text": [
            "Decision tree results:\n",
            "Accuracy: 0.5454545454545454\n"
          ]
        }
      ]
    },
    {
      "cell_type": "code",
      "source": [
        "fig = plt.figure()\n",
        "ax = fig.add_axes([0,0,1,1])\n",
        "langs = ['kNN', 'WkNN', 'DT']\n",
        "values = [AC,W_AC,DT_AC]\n",
        "ax.bar(langs,values)\n",
        "plt.show()"
      ],
      "metadata": {
        "colab": {
          "base_uri": "https://localhost:8080/",
          "height": 336
        },
        "id": "dAuQu3k8VJiL",
        "outputId": "29827bf1-61fe-4793-fead-832e52b7388f"
      },
      "execution_count": 105,
      "outputs": [
        {
          "output_type": "display_data",
          "data": {
            "text/plain": [
              "<Figure size 432x288 with 1 Axes>"
            ],
            "image/png": "[encoded data removed]"
          },
          "metadata": {
            "needs_background": "light"
          }
        }
      ]
    },
    {
      "cell_type": "markdown",
      "source": [
        "- **Analysis**: What did you determine? What did you notice? How did you identify which learning algorithms you will try and which important parameters you will tune for each one? What is your predictions for the 'competition testing set'."
      ],
      "metadata": {
        "id": "r2K1siBQfqXZ"
      }
    },
    {
      "cell_type": "markdown",
      "source": [
        "In this, I was able to get all of my kNN models up to a .545 accuracy after tweaking their parameters a bit. I'm really at a loss though because my decision tree model is performing worse and I have no clue why. And it's not just slightly worse but actually much worse. \n",
        "\n",
        "I chose to tweak the train-test split, k-values, and p-values for kNN because they had an effect when I tried them with kNeighborsRegressor, and I did similar for DecisionTreeClassifier, using different max_depths and criterion. \n",
        "\n",
        "I predict that this will be similarly to slightly less accurate on the competition testing set, since it is tuned to fit this random state, and not any other one\n",
        "\n"
      ],
      "metadata": {
        "id": "5FvQAG-uVQKI"
      }
    },
    {
      "cell_type": "markdown",
      "source": [
        "*don't forget to print out a confusion matrix*"
      ],
      "metadata": {
        "id": "WubWwdQTgEQD"
      }
    },
    {
      "cell_type": "code",
      "source": [
        "import itertools \n",
        "\n",
        "cm = metrics.confusion_matrix(test_sln, dt_predictions)\n",
        "plt.imshow(cm, interpolation = \"nearest\", cmap = plt.cm.Blues)\n",
        "plt.title(\"Car Data Decision Tree Classifier\")\n",
        "plt.colorbar()\n",
        "plt.xticks([0,1,2,3,4], dt.classes_, rotation = 45)\n",
        "plt.yticks([0,1,2,3,4], dt.classes_)\n",
        "thresh = cm.max() / 2.\n",
        "\n",
        "for i, j in itertools.product(range(cm.shape[0]), range(cm.shape[1])): \n",
        "  plt.text(j, i, format(cm[i,j], \".2f\"), horizontalalignment = \"center\", color = \"white\" if cm[i, j] > thresh else \"black\")\n",
        "plt.ylabel(\"True label\")\n",
        "plt.xlabel(\"Predicted label\")"
      ],
      "metadata": {
        "colab": {
          "base_uri": "https://localhost:8080/",
          "height": 350
        },
        "id": "rUkujiw4qcoQ",
        "outputId": "3c47fb17-5d19-48fe-e237-bc71ddd74d63"
      },
      "execution_count": 112,
      "outputs": [
        {
          "output_type": "execute_result",
          "data": {
            "text/plain": [
              "Text(0.5, 0, 'Predicted label')"
            ]
          },
          "metadata": {},
          "execution_count": 112
        },
        {
          "output_type": "display_data",
          "data": {
            "text/plain": [
              "<Figure size 432x288 with 2 Axes>"
            ],
            "image/png": "[encoded data removed]"
          },
          "metadata": {
            "needs_background": "light"
          }
        }
      ]
    },
    {
      "cell_type": "markdown",
      "source": [
        "# Part 3: Conclusions"
      ],
      "metadata": {
        "id": "iTyI7qqXJSBP"
      }
    },
    {
      "cell_type": "markdown",
      "source": [
        "**Bumps in the Road**: What challenges did you encounter? How did you overcome these challenges? Did you have to adapt your strategy to account for these challenges? Why or why not?\n"
      ],
      "metadata": {
        "id": "jHVoNCBogTRB"
      }
    },
    {
      "cell_type": "markdown",
      "source": [
        "The most difficult challenges for me to overcome were knowing how exactly I needed to clean the data, and then learning how exactly to test each of the parameters to my liking. For example, I found it tough to know what columns to adjust, like replacing n/a with the mean for regression data or null for classification data. I also struggled with the proper creation of dummy variables at first. When it came to testing my parameters the way I wanted to, I had to learn how to implement loops that would correctly parse through the values I wanted to test for parameters like the split, the k-values, and the max_depth. This took a while for me to get correct and a lot of trial and error, but once it was done once it became much easier for me to do over and over again. I believe this trial and error strategy was the best way for me to adapt and complete the project the way I wanted. The only times it didn't work for me was when I was adjusting the DecisionTreeClassifier parameters, which I still don't know what I did wrong."
      ],
      "metadata": {
        "id": "8q9mlZrwXSoL"
      }
    },
    {
      "cell_type": "markdown",
      "source": [
        "**Conclusions:** What insights/recommendations do you have? What did you find that was interesting? Which model was your best model, which models didn't work well? Why do you think this is? In general, I want a discussion of your experiment, the results, and what they mean."
      ],
      "metadata": {
        "id": "Hn9jY5BagYNN"
      }
    },
    {
      "cell_type": "markdown",
      "source": [
        "In conclusion, picking the proper train-test split seems to have a much greater effect on the metrics you are testing than I would've ever thought. Along with that, the proper k-value is vastly important, as well as the right max-depth for your decision tree. My best models were by far the regression models, but the kNN and WkNN were specifically the greatest based on their R^2 score. The models that didn't work as well were all of the classification models, with the Decision tree causing me the most headaches to try and get correct, especially when it performed better without me adjusting parameters. I feel like regression models performed better because it was easier to predict the changing numerical values of price at a greater level than it was to predict any of the 5 types of carbody classifications."
      ],
      "metadata": {
        "id": "PQuixEutYh2t"
      }
    }
  ]
}