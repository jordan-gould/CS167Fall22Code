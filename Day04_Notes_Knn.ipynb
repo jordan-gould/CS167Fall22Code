{
  "nbformat": 4,
  "nbformat_minor": 0,
  "metadata": {
    "colab": {
      "provenance": [],
      "collapsed_sections": [],
      "authorship_tag": "ABX9TyOs8jKBUaZyHftcb24cBBe6",
      "include_colab_link": true
    },
    "kernelspec": {
      "name": "python3",
      "display_name": "Python 3"
    },
    "language_info": {
      "name": "python"
    }
  },
  "cells": [
    {
      "cell_type": "markdown",
      "metadata": {
        "id": "view-in-github",
        "colab_type": "text"
      },
      "source": [
        "<a href=\"https://colab.research.google.com/github/urness/CS167Fall22Code/blob/main/Day04_Notes_Knn.ipynb\" target=\"_parent\"><img src=\"https://colab.research.google.com/assets/colab-badge.svg\" alt=\"Open In Colab\"/></a>"
      ]
    },
    {
      "cell_type": "markdown",
      "source": [
        "# CS 167 Machine Learning\n",
        "## Notes on September 8, 2022"
      ],
      "metadata": {
        "id": "XR1SpgwYU2Yn"
      }
    },
    {
      "cell_type": "code",
      "source": [
        "import pandas\n",
        "from google.colab import drive\n",
        "drive.mount('/content/drive')\n",
        "#go through authentication step"
      ],
      "metadata": {
        "id": "JfCmYk3CU9Nx"
      },
      "execution_count": null,
      "outputs": []
    },
    {
      "cell_type": "markdown",
      "source": [
        "Data can be messy... Note the null (NaN) values"
      ],
      "metadata": {
        "id": "knebdxjhYChM"
      }
    },
    {
      "cell_type": "code",
      "source": [
        "#import the data and take a look at it\n",
        "titanic = pandas.read_csv('/content/drive/MyDrive/CS167Fall22/Datasets/titanic.csv')\n",
        "titanic_slice = titanic[0:7]\n",
        "titanic_slice"
      ],
      "metadata": {
        "id": "nE0r9xSFVC8G"
      },
      "execution_count": null,
      "outputs": []
    },
    {
      "cell_type": "code",
      "source": [
        "titanic_slice.isna()"
      ],
      "metadata": {
        "id": "xTB0qrHbXhT2"
      },
      "execution_count": null,
      "outputs": []
    },
    {
      "cell_type": "code",
      "source": [
        "titanic_slice.isna().any()"
      ],
      "metadata": {
        "id": "78bj3mYmVSw1"
      },
      "execution_count": null,
      "outputs": []
    },
    {
      "cell_type": "code",
      "source": [
        "# the entire dataset \n",
        "titanic.isna().any()"
      ],
      "metadata": {
        "id": "UvBrwErGcD2T"
      },
      "execution_count": null,
      "outputs": []
    },
    {
      "cell_type": "markdown",
      "source": [
        "# solutions to dealing with missing data...."
      ],
      "metadata": {
        "id": "y6RZJoA5a3zX"
      }
    },
    {
      "cell_type": "markdown",
      "source": [
        "use dropna()"
      ],
      "metadata": {
        "id": "0H4pRh0PbeJt"
      }
    },
    {
      "cell_type": "code",
      "source": [
        "titanic_copy = titanic.copy()\n",
        "print(\"before\", titanic_copy.shape)\n",
        "titanic_copy = titanic_copy.dropna()\n",
        "print(\"after\", titanic_copy.shape)\n"
      ],
      "metadata": {
        "id": "zCCvPLG-a2ny"
      },
      "execution_count": null,
      "outputs": []
    },
    {
      "cell_type": "code",
      "source": [
        "# verify no null values:\n",
        "titanic_copy.isna().any()"
      ],
      "metadata": {
        "id": "G5oZxeWUbWAB"
      },
      "execution_count": null,
      "outputs": []
    },
    {
      "cell_type": "markdown",
      "source": [
        "use fillna()"
      ],
      "metadata": {
        "id": "hFBEvzjebgl4"
      }
    },
    {
      "cell_type": "code",
      "source": [
        "# calculate the average age\n",
        "average_age = titanic['age'].mean()\n",
        "average_age"
      ],
      "metadata": {
        "id": "EdSM5CgVYqQy"
      },
      "execution_count": null,
      "outputs": []
    },
    {
      "cell_type": "code",
      "source": [
        "titanic_copy = titanic.copy()\n",
        "titanic_copy[\"age\"] = titanic[\"age\"].fillna(average_age)\n",
        "print('updated average age: ', titanic_copy[\"age\"].mean())"
      ],
      "metadata": {
        "id": "ELGbD-zeYvyM"
      },
      "execution_count": null,
      "outputs": []
    },
    {
      "cell_type": "code",
      "source": [
        "titanic_copy[0:7]"
      ],
      "metadata": {
        "id": "c4giEPaaZTE9"
      },
      "execution_count": null,
      "outputs": []
    },
    {
      "cell_type": "code",
      "source": [
        "# What is the shape\n",
        "titanic_copy.shape"
      ],
      "metadata": {
        "id": "IWmskC5mbkuT"
      },
      "execution_count": null,
      "outputs": []
    },
    {
      "cell_type": "code",
      "source": [
        "# any null values?\n",
        "titanic_copy.isna().any()"
      ],
      "metadata": {
        "id": "CB_7Ceg-brIy"
      },
      "execution_count": null,
      "outputs": []
    },
    {
      "cell_type": "markdown",
      "source": [
        "# Day 4 Notes: k Nearest Neighbors\n",
        "The following code includes the steps necessary to build a k nearest neighbors model. We'll go through each step, and then I'll ask you to pull these steps together into a function that you can pass a new observation of a flower in to and it will output the species the model predicts that flower is."
      ],
      "metadata": {
        "id": "Ev2jGegcUz5n"
      }
    },
    {
      "cell_type": "code",
      "execution_count": null,
      "metadata": {
        "id": "9GyCvjhbUjQX"
      },
      "outputs": [],
      "source": [
        "#import the data and take a look at it\n",
        "iris_data = pandas.read_csv('/content/drive/MyDrive/CS167Fall22/Datasets/irisData.csv')\n",
        "iris_data.head()"
      ]
    },
    {
      "cell_type": "code",
      "source": [
        "iris_data['petal width'].mean() #get the average of a column"
      ],
      "metadata": {
        "id": "UQ8i76OVgo8P"
      },
      "execution_count": null,
      "outputs": []
    },
    {
      "cell_type": "code",
      "source": [
        "# Calculate the distance\n",
        "import numpy\n",
        "#adding a new column\n",
        "iris_data['distance_to_new'] = numpy.sqrt(\n",
        "    (5.1-iris_data['petal length'])**2\n",
        "    +(7.2-iris_data['sepal length'])**2\n",
        "    +(1.5-iris_data['petal width'])**2\n",
        "    +(2.5-iris_data['sepal width'])**2)\n",
        "iris_data"
      ],
      "metadata": {
        "id": "EG2x6vLpgq_S"
      },
      "execution_count": null,
      "outputs": []
    },
    {
      "cell_type": "code",
      "source": [
        "# Sort the data and display it\n",
        "sorted_data = iris_data.sort_values(['distance_to_new']) \n",
        "sorted_data #display it"
      ],
      "metadata": {
        "id": "_3vvRsQjgs_2"
      },
      "execution_count": null,
      "outputs": []
    },
    {
      "cell_type": "code",
      "source": [
        "# give the top 5 closest neighbors\n",
        "sorted_data.iloc[0:5]"
      ],
      "metadata": {
        "id": "dsBlk25pgumy"
      },
      "execution_count": null,
      "outputs": []
    },
    {
      "cell_type": "code",
      "source": [
        "# give the most commonly occuring species of the 5 closest neighbors\n",
        "sorted_data.iloc[0:5]['species'].mode()\n",
        "#sorted_data.iloc[0:5]['species'].mode()[0] #return just the string"
      ],
      "metadata": {
        "id": "DSLXUZyGgwXb"
      },
      "execution_count": null,
      "outputs": []
    },
    {
      "cell_type": "markdown",
      "source": [
        "Exercise:\n",
        "Now it's your turn. Use the code snippets from above to build out a kNN function that takes in specimen, data, and k and ouputs the prediction."
      ],
      "metadata": {
        "id": "L_5oGrk1gycy"
      }
    },
    {
      "cell_type": "code",
      "source": [
        "def knn(specimen, data, k):\n",
        "  # your code here"
      ],
      "metadata": {
        "id": "s6wLnCTfg0Uv"
      },
      "execution_count": null,
      "outputs": []
    },
    {
      "cell_type": "code",
      "source": [
        "# Use the code below to build a dictionary of values and test your new function:\n",
        "iris = {}\n",
        "iris['petal length'] = 5.1\n",
        "iris['sepal length'] = 7.2\n",
        "iris['petal width'] = 1.5\n",
        "iris['sepal width'] = 2.5\n",
        "# 5-NN \n",
        "knn(iris,data,5)"
      ],
      "metadata": {
        "id": "bZOcnJnXg2IT"
      },
      "execution_count": null,
      "outputs": []
    }
  ]
}